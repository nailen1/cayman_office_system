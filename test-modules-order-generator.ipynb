{
 "cells": [
  {
   "cell_type": "code",
   "execution_count": 13,
   "metadata": {},
   "outputs": [],
   "source": [
    "from cayman_office_system import *"
   ]
  },
  {
   "cell_type": "code",
   "execution_count": 2,
   "metadata": {},
   "outputs": [
    {
     "data": {
      "text/plain": [
       "<cayman_office_system.order_generator.OrderInstruction at 0x147ed54d0>"
      ]
     },
     "execution_count": 2,
     "metadata": {},
     "output_type": "execute_result"
    }
   ],
   "source": [
    "instruction = OrderInstruction(date='2024-09-02')\n",
    "instruction"
   ]
  },
  {
   "cell_type": "code",
   "execution_count": 3,
   "metadata": {},
   "outputs": [
    {
     "data": {
      "text/plain": [
       "'2024-09-02'"
      ]
     },
     "execution_count": 3,
     "metadata": {},
     "output_type": "execute_result"
    }
   ],
   "source": [
    "instruction.date"
   ]
  },
  {
   "cell_type": "code",
   "execution_count": 4,
   "metadata": {},
   "outputs": [],
   "source": [
    "order_1 = {\n",
    "    'Symbol': '007340 KS',\n",
    "    'Side': 'B',\n",
    "    'Amount': 2500\n",
    "}\n",
    "order_2 = {\n",
    "    'Symbol': '282690 KS',\n",
    "    'Side': 'Buy',\n",
    "    'Amount': 2500\n",
    "}"
   ]
  },
  {
   "cell_type": "code",
   "execution_count": 5,
   "metadata": {},
   "outputs": [
    {
     "name": "stdout",
     "output_type": "stream",
     "text": [
      "{'Name': None, 'Account': '715543911501', 'Side': 'B', 'Broker': 'Samsung', 'Symbol': '007340 KS', 'Amount': 2500, 'Order Type': 'MKT', 'Limit': None, 'Instructions': 'VWAP', 'CFD': None, 'Rationale': 'Currently trading at a PER of less than 3, indicating extreme undervaluation. The order backlog is steadily increasing, and favorable conditions (costs/FX) suggest consistent improvement in performance over the next 5 years. A cumulative profit increase of over 100% is possibled. In particular, IPO of the core subsidiary is expected within the next year. The target market cap presented by underwriters is at least five times the current market cap of the parent company, indicating a significant revaluation event is likely within the next year.'}\n",
      "{'Name': None, 'Account': '715543911501', 'Side': 'B', 'Broker': 'Samsung', 'Symbol': '282690 KS', 'Amount': 2500, 'Order Type': 'MKT', 'Limit': None, 'Instructions': 'VWAP', 'CFD': None, 'Rationale': \"The company is set to merge with DN Automotive soon. Based on the merger valuation, the company's stock is currently trading at a discount compared to DN Automotive's stock, presenting an arbitrage opportunity.\"}\n"
     ]
    },
    {
     "data": {
      "text/plain": [
       "<cayman_office_system.order_generator.OrderInstruction at 0x147ed54d0>"
      ]
     },
     "execution_count": 5,
     "metadata": {},
     "output_type": "execute_result"
    }
   ],
   "source": [
    "instruction.set_order(order_1)\n",
    "instruction.set_order(order_2)"
   ]
  },
  {
   "cell_type": "code",
   "execution_count": 6,
   "metadata": {},
   "outputs": [
    {
     "data": {
      "text/plain": [
       "[{'Name': None,\n",
       "  'Account': '715543911501',\n",
       "  'Side': 'B',\n",
       "  'Broker': 'Samsung',\n",
       "  'Symbol': '007340 KS',\n",
       "  'Amount': 2500,\n",
       "  'Order Type': 'MKT',\n",
       "  'Limit': None,\n",
       "  'Instructions': 'VWAP',\n",
       "  'CFD': None,\n",
       "  'Rationale': 'Currently trading at a PER of less than 3, indicating extreme undervaluation. The order backlog is steadily increasing, and favorable conditions (costs/FX) suggest consistent improvement in performance over the next 5 years. A cumulative profit increase of over 100% is possibled. In particular, IPO of the core subsidiary is expected within the next year. The target market cap presented by underwriters is at least five times the current market cap of the parent company, indicating a significant revaluation event is likely within the next year.'},\n",
       " {'Name': None,\n",
       "  'Account': '715543911501',\n",
       "  'Side': 'B',\n",
       "  'Broker': 'Samsung',\n",
       "  'Symbol': '282690 KS',\n",
       "  'Amount': 2500,\n",
       "  'Order Type': 'MKT',\n",
       "  'Limit': None,\n",
       "  'Instructions': 'VWAP',\n",
       "  'CFD': None,\n",
       "  'Rationale': \"The company is set to merge with DN Automotive soon. Based on the merger valuation, the company's stock is currently trading at a discount compared to DN Automotive's stock, presenting an arbitrage opportunity.\"}]"
      ]
     },
     "execution_count": 6,
     "metadata": {},
     "output_type": "execute_result"
    }
   ],
   "source": [
    "instruction.orders"
   ]
  },
  {
   "cell_type": "code",
   "execution_count": 7,
   "metadata": {},
   "outputs": [],
   "source": [
    "order_3_4 = [\n",
    "    {\n",
    "        'Symbol': '003030 KS',\n",
    "        'Side': 'B',\n",
    "        'Amount': 900\n",
    "    },\n",
    "    {\n",
    "        'Symbol': '271560 KS',\n",
    "        'Side': 'Buy',\n",
    "        'Amount': 2200\n",
    "    }\n",
    "] "
   ]
  },
  {
   "cell_type": "code",
   "execution_count": 8,
   "metadata": {},
   "outputs": [
    {
     "name": "stdout",
     "output_type": "stream",
     "text": [
      "{'Name': None, 'Account': '715543911501', 'Side': 'B', 'Broker': 'Samsung', 'Symbol': '003030 KS', 'Amount': 900, 'Order Type': 'MKT', 'Limit': None, 'Instructions': 'VWAP', 'CFD': None, 'Rationale': 'The company is trading at a PER of less than 3, indicating extreme undervaluation. The market’s outlook on the future of the steel pipe industry is overly pessimistic. The current stock price does not yet reflect the upcoming operation of the UK offshore wind tower substructure plant, which is set to begin by the end of this year. The company is transitioning from a focus on fossil energy-related products to renewable energy products.'}\n",
      "{'Name': None, 'Account': '715543911501', 'Side': 'B', 'Broker': 'Samsung', 'Symbol': '271560 KS', 'Amount': 2200, 'Order Type': 'MKT', 'Limit': None, 'Instructions': 'VWAP', 'CFD': None, 'Rationale': \"The company has been overlooked by the market due to its acquisition of a biotech firm focused on new drug development, which is unrelated to its traditional confectionery business. It is currently the most undervalued stock in the food and beverage sector. However, starting in the second half of the year, the company's core business is expected to see significant performance improvements, and the acquisition of the biotech company will gradually prove to have been a sound strategic move.\"}\n"
     ]
    },
    {
     "data": {
      "text/plain": [
       "<cayman_office_system.order_generator.OrderInstruction at 0x147ed54d0>"
      ]
     },
     "execution_count": 8,
     "metadata": {},
     "output_type": "execute_result"
    }
   ],
   "source": [
    "instruction.set_orders(order_3_4)"
   ]
  },
  {
   "cell_type": "code",
   "execution_count": 9,
   "metadata": {},
   "outputs": [
    {
     "data": {
      "text/plain": [
       "[{'Name': None,\n",
       "  'Account': '715543911501',\n",
       "  'Side': 'B',\n",
       "  'Broker': 'Samsung',\n",
       "  'Symbol': '007340 KS',\n",
       "  'Amount': 2500,\n",
       "  'Order Type': 'MKT',\n",
       "  'Limit': None,\n",
       "  'Instructions': 'VWAP',\n",
       "  'CFD': None,\n",
       "  'Rationale': 'Currently trading at a PER of less than 3, indicating extreme undervaluation. The order backlog is steadily increasing, and favorable conditions (costs/FX) suggest consistent improvement in performance over the next 5 years. A cumulative profit increase of over 100% is possibled. In particular, IPO of the core subsidiary is expected within the next year. The target market cap presented by underwriters is at least five times the current market cap of the parent company, indicating a significant revaluation event is likely within the next year.'},\n",
       " {'Name': None,\n",
       "  'Account': '715543911501',\n",
       "  'Side': 'B',\n",
       "  'Broker': 'Samsung',\n",
       "  'Symbol': '282690 KS',\n",
       "  'Amount': 2500,\n",
       "  'Order Type': 'MKT',\n",
       "  'Limit': None,\n",
       "  'Instructions': 'VWAP',\n",
       "  'CFD': None,\n",
       "  'Rationale': \"The company is set to merge with DN Automotive soon. Based on the merger valuation, the company's stock is currently trading at a discount compared to DN Automotive's stock, presenting an arbitrage opportunity.\"},\n",
       " {'Name': None,\n",
       "  'Account': '715543911501',\n",
       "  'Side': 'B',\n",
       "  'Broker': 'Samsung',\n",
       "  'Symbol': '003030 KS',\n",
       "  'Amount': 900,\n",
       "  'Order Type': 'MKT',\n",
       "  'Limit': None,\n",
       "  'Instructions': 'VWAP',\n",
       "  'CFD': None,\n",
       "  'Rationale': 'The company is trading at a PER of less than 3, indicating extreme undervaluation. The market’s outlook on the future of the steel pipe industry is overly pessimistic. The current stock price does not yet reflect the upcoming operation of the UK offshore wind tower substructure plant, which is set to begin by the end of this year. The company is transitioning from a focus on fossil energy-related products to renewable energy products.'},\n",
       " {'Name': None,\n",
       "  'Account': '715543911501',\n",
       "  'Side': 'B',\n",
       "  'Broker': 'Samsung',\n",
       "  'Symbol': '271560 KS',\n",
       "  'Amount': 2200,\n",
       "  'Order Type': 'MKT',\n",
       "  'Limit': None,\n",
       "  'Instructions': 'VWAP',\n",
       "  'CFD': None,\n",
       "  'Rationale': \"The company has been overlooked by the market due to its acquisition of a biotech firm focused on new drug development, which is unrelated to its traditional confectionery business. It is currently the most undervalued stock in the food and beverage sector. However, starting in the second half of the year, the company's core business is expected to see significant performance improvements, and the acquisition of the biotech company will gradually prove to have been a sound strategic move.\"}]"
      ]
     },
     "execution_count": 9,
     "metadata": {},
     "output_type": "execute_result"
    }
   ],
   "source": [
    "instruction.orders"
   ]
  },
  {
   "cell_type": "code",
   "execution_count": 10,
   "metadata": {},
   "outputs": [
    {
     "data": {
      "text/html": [
       "<div>\n",
       "<style scoped>\n",
       "    .dataframe tbody tr th:only-of-type {\n",
       "        vertical-align: middle;\n",
       "    }\n",
       "\n",
       "    .dataframe tbody tr th {\n",
       "        vertical-align: top;\n",
       "    }\n",
       "\n",
       "    .dataframe thead th {\n",
       "        text-align: right;\n",
       "    }\n",
       "</style>\n",
       "<table border=\"1\" class=\"dataframe\">\n",
       "  <thead>\n",
       "    <tr style=\"text-align: right;\">\n",
       "      <th></th>\n",
       "      <th>Name</th>\n",
       "      <th>Account</th>\n",
       "      <th>Side</th>\n",
       "      <th>Broker</th>\n",
       "      <th>Symbol</th>\n",
       "      <th>Amount</th>\n",
       "      <th>Order Type</th>\n",
       "      <th>Limit</th>\n",
       "      <th>Instructions</th>\n",
       "      <th>CFD</th>\n",
       "      <th>Rationale</th>\n",
       "    </tr>\n",
       "  </thead>\n",
       "  <tbody>\n",
       "    <tr>\n",
       "      <th>0</th>\n",
       "      <td>DN AUTOMOTIVE CORP</td>\n",
       "      <td>715543911501</td>\n",
       "      <td>B</td>\n",
       "      <td>Samsung</td>\n",
       "      <td>007340 KS</td>\n",
       "      <td>2500</td>\n",
       "      <td>MKT</td>\n",
       "      <td>None</td>\n",
       "      <td>VWAP</td>\n",
       "      <td>None</td>\n",
       "      <td>Currently trading at a PER of less than 3, ind...</td>\n",
       "    </tr>\n",
       "    <tr>\n",
       "      <th>1</th>\n",
       "      <td>DONG AH TIRE &amp; RUBBER CO LTD</td>\n",
       "      <td>715543911501</td>\n",
       "      <td>B</td>\n",
       "      <td>Samsung</td>\n",
       "      <td>282690 KS</td>\n",
       "      <td>2500</td>\n",
       "      <td>MKT</td>\n",
       "      <td>None</td>\n",
       "      <td>VWAP</td>\n",
       "      <td>None</td>\n",
       "      <td>The company is set to merge with DN Automotive...</td>\n",
       "    </tr>\n",
       "    <tr>\n",
       "      <th>2</th>\n",
       "      <td>SEAH STEEL HOLDINGS CORP</td>\n",
       "      <td>715543911501</td>\n",
       "      <td>B</td>\n",
       "      <td>Samsung</td>\n",
       "      <td>003030 KS</td>\n",
       "      <td>900</td>\n",
       "      <td>MKT</td>\n",
       "      <td>None</td>\n",
       "      <td>VWAP</td>\n",
       "      <td>None</td>\n",
       "      <td>The company is trading at a PER of less than 3...</td>\n",
       "    </tr>\n",
       "    <tr>\n",
       "      <th>3</th>\n",
       "      <td>ORION CORP/REPUBLIC OF KOREA</td>\n",
       "      <td>715543911501</td>\n",
       "      <td>B</td>\n",
       "      <td>Samsung</td>\n",
       "      <td>271560 KS</td>\n",
       "      <td>2200</td>\n",
       "      <td>MKT</td>\n",
       "      <td>None</td>\n",
       "      <td>VWAP</td>\n",
       "      <td>None</td>\n",
       "      <td>The company has been overlooked by the market ...</td>\n",
       "    </tr>\n",
       "  </tbody>\n",
       "</table>\n",
       "</div>"
      ],
      "text/plain": [
       "                           Name       Account Side   Broker     Symbol  \\\n",
       "0            DN AUTOMOTIVE CORP  715543911501    B  Samsung  007340 KS   \n",
       "1  DONG AH TIRE & RUBBER CO LTD  715543911501    B  Samsung  282690 KS   \n",
       "2      SEAH STEEL HOLDINGS CORP  715543911501    B  Samsung  003030 KS   \n",
       "3  ORION CORP/REPUBLIC OF KOREA  715543911501    B  Samsung  271560 KS   \n",
       "\n",
       "   Amount Order Type Limit Instructions   CFD  \\\n",
       "0    2500        MKT  None         VWAP  None   \n",
       "1    2500        MKT  None         VWAP  None   \n",
       "2     900        MKT  None         VWAP  None   \n",
       "3    2200        MKT  None         VWAP  None   \n",
       "\n",
       "                                           Rationale  \n",
       "0  Currently trading at a PER of less than 3, ind...  \n",
       "1  The company is set to merge with DN Automotive...  \n",
       "2  The company is trading at a PER of less than 3...  \n",
       "3  The company has been overlooked by the market ...  "
      ]
     },
     "execution_count": 10,
     "metadata": {},
     "output_type": "execute_result"
    }
   ],
   "source": [
    "instruction.generate()\n"
   ]
  },
  {
   "cell_type": "code",
   "execution_count": 11,
   "metadata": {},
   "outputs": [
    {
     "data": {
      "text/html": [
       "<div>\n",
       "<style scoped>\n",
       "    .dataframe tbody tr th:only-of-type {\n",
       "        vertical-align: middle;\n",
       "    }\n",
       "\n",
       "    .dataframe tbody tr th {\n",
       "        vertical-align: top;\n",
       "    }\n",
       "\n",
       "    .dataframe thead th {\n",
       "        text-align: right;\n",
       "    }\n",
       "</style>\n",
       "<table border=\"1\" class=\"dataframe\">\n",
       "  <thead>\n",
       "    <tr style=\"text-align: right;\">\n",
       "      <th></th>\n",
       "      <th>Name</th>\n",
       "      <th>Symbol</th>\n",
       "      <th>Amount</th>\n",
       "      <th>Price_last</th>\n",
       "      <th>Evaluation_krw</th>\n",
       "    </tr>\n",
       "  </thead>\n",
       "  <tbody>\n",
       "    <tr>\n",
       "      <th>0</th>\n",
       "      <td>DN AUTOMOTIVE CORP</td>\n",
       "      <td>007340 KS</td>\n",
       "      <td>2500</td>\n",
       "      <td>94200.0</td>\n",
       "      <td>235500000.0</td>\n",
       "    </tr>\n",
       "    <tr>\n",
       "      <th>1</th>\n",
       "      <td>DONG AH TIRE &amp; RUBBER CO LTD</td>\n",
       "      <td>282690 KS</td>\n",
       "      <td>2500</td>\n",
       "      <td>13500.0</td>\n",
       "      <td>33750000.0</td>\n",
       "    </tr>\n",
       "    <tr>\n",
       "      <th>2</th>\n",
       "      <td>SEAH STEEL HOLDINGS CORP</td>\n",
       "      <td>003030 KS</td>\n",
       "      <td>900</td>\n",
       "      <td>174700.0</td>\n",
       "      <td>157230000.0</td>\n",
       "    </tr>\n",
       "    <tr>\n",
       "      <th>3</th>\n",
       "      <td>ORION CORP/REPUBLIC OF KOREA</td>\n",
       "      <td>271560 KS</td>\n",
       "      <td>2200</td>\n",
       "      <td>88800.0</td>\n",
       "      <td>195360000.0</td>\n",
       "    </tr>\n",
       "  </tbody>\n",
       "</table>\n",
       "</div>"
      ],
      "text/plain": [
       "                           Name     Symbol  Amount  Price_last  Evaluation_krw\n",
       "0            DN AUTOMOTIVE CORP  007340 KS    2500     94200.0     235500000.0\n",
       "1  DONG AH TIRE & RUBBER CO LTD  282690 KS    2500     13500.0      33750000.0\n",
       "2      SEAH STEEL HOLDINGS CORP  003030 KS     900    174700.0     157230000.0\n",
       "3  ORION CORP/REPUBLIC OF KOREA  271560 KS    2200     88800.0     195360000.0"
      ]
     },
     "execution_count": 11,
     "metadata": {},
     "output_type": "execute_result"
    }
   ],
   "source": [
    "instruction.show_current_price()\n"
   ]
  },
  {
   "cell_type": "code",
   "execution_count": 12,
   "metadata": {},
   "outputs": [
    {
     "name": "stdout",
     "output_type": "stream",
     "text": [
      "DataFrame has been saved to /Users/juneyoungpark/dev/module-cayman_office_system/cayman_office_system/dataset-generate/genearted_at2024091013-Life Asset trade instruction 20240902.xlsx\n"
     ]
    }
   ],
   "source": [
    "instruction.export_as_excel()"
   ]
  },
  {
   "cell_type": "code",
   "execution_count": null,
   "metadata": {},
   "outputs": [],
   "source": []
  },
  {
   "cell_type": "code",
   "execution_count": null,
   "metadata": {},
   "outputs": [],
   "source": []
  }
 ],
 "metadata": {
  "kernelspec": {
   "display_name": "base",
   "language": "python",
   "name": "python3"
  },
  "language_info": {
   "codemirror_mode": {
    "name": "ipython",
    "version": 3
   },
   "file_extension": ".py",
   "mimetype": "text/x-python",
   "name": "python",
   "nbconvert_exporter": "python",
   "pygments_lexer": "ipython3",
   "version": "3.11.3"
  }
 },
 "nbformat": 4,
 "nbformat_minor": 2
}
