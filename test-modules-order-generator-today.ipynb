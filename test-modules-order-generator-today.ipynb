{
 "cells": [
  {
   "cell_type": "code",
   "execution_count": 3,
   "metadata": {},
   "outputs": [
    {
     "name": "stderr",
     "output_type": "stream",
     "text": [
      "INFO:shining_pebbles:Shining Pebbles package initialized\n",
      "INFO:numexpr.utils:Note: NumExpr detected 10 cores but \"NUMEXPR_MAX_THREADS\" not set, so enforcing safe limit of 8.\n",
      "INFO:numexpr.utils:NumExpr defaulting to 8 threads.\n",
      "/Users/juneyoungpark/anaconda3/lib/python3.11/site-packages/pandas/core/arrays/masked.py:60: UserWarning: Pandas requires version '1.3.6' or newer of 'bottleneck' (version '1.3.5' currently installed).\n",
      "  from pandas.core import (\n"
     ]
    }
   ],
   "source": [
    "from cayman_office_system import *"
   ]
  },
  {
   "cell_type": "code",
   "execution_count": 4,
   "metadata": {},
   "outputs": [
    {
     "name": "stdout",
     "output_type": "stream",
     "text": [
      "- order date: 2024-09-02\n",
      "- order date: 2024-09-02\n",
      "- order date: 2024-09-05\n",
      "- order date: 2024-09-05\n",
      "- order date: 2024-09-06\n",
      "- order date: 2024-09-06\n",
      "- order date: 2024-09-09\n",
      "- order date: 2024-09-09\n"
     ]
    },
    {
     "data": {
      "text/html": [
       "<div>\n",
       "<style scoped>\n",
       "    .dataframe tbody tr th:only-of-type {\n",
       "        vertical-align: middle;\n",
       "    }\n",
       "\n",
       "    .dataframe tbody tr th {\n",
       "        vertical-align: top;\n",
       "    }\n",
       "\n",
       "    .dataframe thead th {\n",
       "        text-align: right;\n",
       "    }\n",
       "</style>\n",
       "<table border=\"1\" class=\"dataframe\">\n",
       "  <thead>\n",
       "    <tr style=\"text-align: right;\">\n",
       "      <th></th>\n",
       "      <th>ticker</th>\n",
       "      <th>name_kr</th>\n",
       "      <th>name</th>\n",
       "      <th>amount</th>\n",
       "      <th>price_last</th>\n",
       "      <th>evaluation_krw</th>\n",
       "      <th>evaluation_usd</th>\n",
       "      <th>sector</th>\n",
       "    </tr>\n",
       "  </thead>\n",
       "  <tbody>\n",
       "    <tr>\n",
       "      <th>0</th>\n",
       "      <td>003030 KS</td>\n",
       "      <td>세아제강지주</td>\n",
       "      <td>SEAH STEEL HOLDINGS CORP</td>\n",
       "      <td>2200</td>\n",
       "      <td>167400.0</td>\n",
       "      <td>368280000.0</td>\n",
       "      <td>275865.168539</td>\n",
       "      <td>Materials</td>\n",
       "    </tr>\n",
       "    <tr>\n",
       "      <th>1</th>\n",
       "      <td>007340 KS</td>\n",
       "      <td>DN오토모티브</td>\n",
       "      <td>DN AUTOMOTIVE CORP</td>\n",
       "      <td>8500</td>\n",
       "      <td>89900.0</td>\n",
       "      <td>764150000.0</td>\n",
       "      <td>572397.003745</td>\n",
       "      <td>Consumer Discretionary</td>\n",
       "    </tr>\n",
       "    <tr>\n",
       "      <th>2</th>\n",
       "      <td>271560 KS</td>\n",
       "      <td>오리온</td>\n",
       "      <td>ORION CORP/REPUBLIC OF KOREA</td>\n",
       "      <td>5000</td>\n",
       "      <td>87300.0</td>\n",
       "      <td>436500000.0</td>\n",
       "      <td>326966.292135</td>\n",
       "      <td>Consumer Staples</td>\n",
       "    </tr>\n",
       "    <tr>\n",
       "      <th>3</th>\n",
       "      <td>282690 KS</td>\n",
       "      <td>동아타이어</td>\n",
       "      <td>DONG AH TIRE &amp; RUBBER CO LTD</td>\n",
       "      <td>2500</td>\n",
       "      <td>13500.0</td>\n",
       "      <td>33750000.0</td>\n",
       "      <td>25280.898876</td>\n",
       "      <td>Consumer Discretionary</td>\n",
       "    </tr>\n",
       "  </tbody>\n",
       "</table>\n",
       "</div>"
      ],
      "text/plain": [
       "      ticker  name_kr                          name  amount  price_last  \\\n",
       "0  003030 KS   세아제강지주      SEAH STEEL HOLDINGS CORP    2200    167400.0   \n",
       "1  007340 KS  DN오토모티브            DN AUTOMOTIVE CORP    8500     89900.0   \n",
       "2  271560 KS      오리온  ORION CORP/REPUBLIC OF KOREA    5000     87300.0   \n",
       "3  282690 KS    동아타이어  DONG AH TIRE & RUBBER CO LTD    2500     13500.0   \n",
       "\n",
       "   evaluation_krw  evaluation_usd                  sector  \n",
       "0     368280000.0   275865.168539               Materials  \n",
       "1     764150000.0   572397.003745  Consumer Discretionary  \n",
       "2     436500000.0   326966.292135        Consumer Staples  \n",
       "3      33750000.0    25280.898876  Consumer Discretionary  "
      ]
     },
     "execution_count": 4,
     "metadata": {},
     "output_type": "execute_result"
    }
   ],
   "source": [
    "holdings = Holdings()\n",
    "holdings.info"
   ]
  },
  {
   "cell_type": "code",
   "execution_count": 5,
   "metadata": {},
   "outputs": [],
   "source": [
    "orders_20240910 = [{'Symbol': '007340 KS', 'Side': 'B', 'Amount': 3500},\n",
    " {'Symbol': '003030 KS', 'Side': 'B', 'Amount': 200},\n",
    " {'Symbol': '271560 KS', 'Side': 'B', 'Amount': 1000},\n",
    " {'Symbol': '000660 KS', 'Side': 'B', 'Amount': 1200}]"
   ]
  },
  {
   "cell_type": "code",
   "execution_count": 6,
   "metadata": {},
   "outputs": [
    {
     "data": {
      "text/plain": [
       "<cayman_office_system.order_generator.OrderInstruction at 0x165021250>"
      ]
     },
     "execution_count": 6,
     "metadata": {},
     "output_type": "execute_result"
    }
   ],
   "source": [
    "instruction = OrderInstruction(date='2024-09-10')\n",
    "instruction"
   ]
  },
  {
   "cell_type": "code",
   "execution_count": 7,
   "metadata": {},
   "outputs": [
    {
     "name": "stdout",
     "output_type": "stream",
     "text": [
      "{'Name': None, 'Account': '715543911501', 'Side': 'B', 'Broker': 'Samsung', 'Symbol': '007340 KS', 'Amount': 3500, 'Order Type': 'MKT', 'Limit': None, 'Instructions': 'VWAP', 'CFD': None, 'Rationale': 'Currently trading at a PER of less than 3, indicating extreme undervaluation. The order backlog is steadily increasing, and favorable conditions (costs/FX) suggest consistent improvement in performance over the next 5 years. A cumulative profit increase of over 100% is possibled. In particular, IPO of the core subsidiary is expected within the next year. The target market cap presented by underwriters is at least five times the current market cap of the parent company, indicating a significant revaluation event is likely within the next year.'}\n",
      "{'Name': None, 'Account': '715543911501', 'Side': 'B', 'Broker': 'Samsung', 'Symbol': '003030 KS', 'Amount': 200, 'Order Type': 'MKT', 'Limit': None, 'Instructions': 'VWAP', 'CFD': None, 'Rationale': 'The company is trading at a PER of less than 3, indicating extreme undervaluation. The market’s outlook on the future of the steel pipe industry is overly pessimistic. The current stock price does not yet reflect the upcoming operation of the UK offshore wind tower substructure plant, which is set to begin by the end of this year. The company is transitioning from a focus on fossil energy-related products to renewable energy products.'}\n",
      "{'Name': None, 'Account': '715543911501', 'Side': 'B', 'Broker': 'Samsung', 'Symbol': '271560 KS', 'Amount': 1000, 'Order Type': 'MKT', 'Limit': None, 'Instructions': 'VWAP', 'CFD': None, 'Rationale': \"The company has been overlooked by the market due to its acquisition of a biotech firm focused on new drug development, which is unrelated to its traditional confectionery business. It is currently the most undervalued stock in the food and beverage sector. However, starting in the second half of the year, the company's core business is expected to see significant performance improvements, and the acquisition of the biotech company will gradually prove to have been a sound strategic move.\"}\n",
      "{'Name': None, 'Account': '715543911501', 'Side': 'B', 'Broker': 'Samsung', 'Symbol': '000660 KS', 'Amount': 1200, 'Order Type': 'MKT', 'Limit': None, 'Instructions': 'VWAP', 'CFD': None, 'Rationale': 'With the recent drop, PER has fallen below 5x, creating an attractive valuation opportunity. Concerns about AI investment are expected to ease after this fall. We have plans to engage to prevent profits and cash from being transferred to SK Holdings and its affiliates.'}\n"
     ]
    },
    {
     "data": {
      "text/plain": [
       "<cayman_office_system.order_generator.OrderInstruction at 0x165021250>"
      ]
     },
     "execution_count": 7,
     "metadata": {},
     "output_type": "execute_result"
    }
   ],
   "source": [
    "instruction.set_orders(orders_20240910)"
   ]
  },
  {
   "cell_type": "code",
   "execution_count": 8,
   "metadata": {},
   "outputs": [
    {
     "data": {
      "text/html": [
       "<div>\n",
       "<style scoped>\n",
       "    .dataframe tbody tr th:only-of-type {\n",
       "        vertical-align: middle;\n",
       "    }\n",
       "\n",
       "    .dataframe tbody tr th {\n",
       "        vertical-align: top;\n",
       "    }\n",
       "\n",
       "    .dataframe thead th {\n",
       "        text-align: right;\n",
       "    }\n",
       "</style>\n",
       "<table border=\"1\" class=\"dataframe\">\n",
       "  <thead>\n",
       "    <tr style=\"text-align: right;\">\n",
       "      <th></th>\n",
       "      <th>Name</th>\n",
       "      <th>Account</th>\n",
       "      <th>Side</th>\n",
       "      <th>Broker</th>\n",
       "      <th>Symbol</th>\n",
       "      <th>Amount</th>\n",
       "      <th>Order Type</th>\n",
       "      <th>Limit</th>\n",
       "      <th>Instructions</th>\n",
       "      <th>CFD</th>\n",
       "      <th>Rationale</th>\n",
       "    </tr>\n",
       "  </thead>\n",
       "  <tbody>\n",
       "    <tr>\n",
       "      <th>0</th>\n",
       "      <td>DN AUTOMOTIVE CORP</td>\n",
       "      <td>715543911501</td>\n",
       "      <td>B</td>\n",
       "      <td>Samsung</td>\n",
       "      <td>007340 KS</td>\n",
       "      <td>3500</td>\n",
       "      <td>MKT</td>\n",
       "      <td>None</td>\n",
       "      <td>VWAP</td>\n",
       "      <td>None</td>\n",
       "      <td>Currently trading at a PER of less than 3, ind...</td>\n",
       "    </tr>\n",
       "    <tr>\n",
       "      <th>1</th>\n",
       "      <td>SEAH STEEL HOLDINGS CORP</td>\n",
       "      <td>715543911501</td>\n",
       "      <td>B</td>\n",
       "      <td>Samsung</td>\n",
       "      <td>003030 KS</td>\n",
       "      <td>200</td>\n",
       "      <td>MKT</td>\n",
       "      <td>None</td>\n",
       "      <td>VWAP</td>\n",
       "      <td>None</td>\n",
       "      <td>The company is trading at a PER of less than 3...</td>\n",
       "    </tr>\n",
       "    <tr>\n",
       "      <th>2</th>\n",
       "      <td>ORION CORP/REPUBLIC OF KOREA</td>\n",
       "      <td>715543911501</td>\n",
       "      <td>B</td>\n",
       "      <td>Samsung</td>\n",
       "      <td>271560 KS</td>\n",
       "      <td>1000</td>\n",
       "      <td>MKT</td>\n",
       "      <td>None</td>\n",
       "      <td>VWAP</td>\n",
       "      <td>None</td>\n",
       "      <td>The company has been overlooked by the market ...</td>\n",
       "    </tr>\n",
       "    <tr>\n",
       "      <th>3</th>\n",
       "      <td>SK HYNIX INC</td>\n",
       "      <td>715543911501</td>\n",
       "      <td>B</td>\n",
       "      <td>Samsung</td>\n",
       "      <td>000660 KS</td>\n",
       "      <td>1200</td>\n",
       "      <td>MKT</td>\n",
       "      <td>None</td>\n",
       "      <td>VWAP</td>\n",
       "      <td>None</td>\n",
       "      <td>With the recent drop, PER has fallen below 5x,...</td>\n",
       "    </tr>\n",
       "  </tbody>\n",
       "</table>\n",
       "</div>"
      ],
      "text/plain": [
       "                           Name       Account Side   Broker     Symbol  \\\n",
       "0            DN AUTOMOTIVE CORP  715543911501    B  Samsung  007340 KS   \n",
       "1      SEAH STEEL HOLDINGS CORP  715543911501    B  Samsung  003030 KS   \n",
       "2  ORION CORP/REPUBLIC OF KOREA  715543911501    B  Samsung  271560 KS   \n",
       "3                  SK HYNIX INC  715543911501    B  Samsung  000660 KS   \n",
       "\n",
       "   Amount Order Type Limit Instructions   CFD  \\\n",
       "0    3500        MKT  None         VWAP  None   \n",
       "1     200        MKT  None         VWAP  None   \n",
       "2    1000        MKT  None         VWAP  None   \n",
       "3    1200        MKT  None         VWAP  None   \n",
       "\n",
       "                                           Rationale  \n",
       "0  Currently trading at a PER of less than 3, ind...  \n",
       "1  The company is trading at a PER of less than 3...  \n",
       "2  The company has been overlooked by the market ...  \n",
       "3  With the recent drop, PER has fallen below 5x,...  "
      ]
     },
     "execution_count": 8,
     "metadata": {},
     "output_type": "execute_result"
    }
   ],
   "source": [
    "instruction.generate()"
   ]
  },
  {
   "cell_type": "code",
   "execution_count": 9,
   "metadata": {},
   "outputs": [
    {
     "name": "stdout",
     "output_type": "stream",
     "text": [
      "DataFrame has been saved to /Users/juneyoungpark/dev/module-cayman_office_system/cayman_office_system/dataset-generate/genearted_at2024091017-Life Asset trade instruction 20240910.xlsx\n"
     ]
    }
   ],
   "source": [
    "instruction.export_as_excel()"
   ]
  },
  {
   "cell_type": "code",
   "execution_count": 16,
   "metadata": {},
   "outputs": [
    {
     "data": {
      "text/html": [
       "<div>\n",
       "<style scoped>\n",
       "    .dataframe tbody tr th:only-of-type {\n",
       "        vertical-align: middle;\n",
       "    }\n",
       "\n",
       "    .dataframe tbody tr th {\n",
       "        vertical-align: top;\n",
       "    }\n",
       "\n",
       "    .dataframe thead th {\n",
       "        text-align: right;\n",
       "    }\n",
       "</style>\n",
       "<table border=\"1\" class=\"dataframe\">\n",
       "  <thead>\n",
       "    <tr style=\"text-align: right;\">\n",
       "      <th></th>\n",
       "      <th>Name</th>\n",
       "      <th>Symbol</th>\n",
       "      <th>Amount</th>\n",
       "      <th>Price_last</th>\n",
       "      <th>Evaluation_krw</th>\n",
       "    </tr>\n",
       "  </thead>\n",
       "  <tbody>\n",
       "    <tr>\n",
       "      <th>0</th>\n",
       "      <td>DN AUTOMOTIVE CORP</td>\n",
       "      <td>007340 KS</td>\n",
       "      <td>3500</td>\n",
       "      <td>94200.0</td>\n",
       "      <td>329700000.0</td>\n",
       "    </tr>\n",
       "    <tr>\n",
       "      <th>1</th>\n",
       "      <td>SEAH STEEL HOLDINGS CORP</td>\n",
       "      <td>003030 KS</td>\n",
       "      <td>200</td>\n",
       "      <td>174700.0</td>\n",
       "      <td>34940000.0</td>\n",
       "    </tr>\n",
       "    <tr>\n",
       "      <th>2</th>\n",
       "      <td>ORION CORP/REPUBLIC OF KOREA</td>\n",
       "      <td>271560 KS</td>\n",
       "      <td>1000</td>\n",
       "      <td>88800.0</td>\n",
       "      <td>88800000.0</td>\n",
       "    </tr>\n",
       "    <tr>\n",
       "      <th>3</th>\n",
       "      <td>SK HYNIX INC</td>\n",
       "      <td>000660 KS</td>\n",
       "      <td>1200</td>\n",
       "      <td>157000.0</td>\n",
       "      <td>188400000.0</td>\n",
       "    </tr>\n",
       "  </tbody>\n",
       "</table>\n",
       "</div>"
      ],
      "text/plain": [
       "                           Name     Symbol  Amount  Price_last  Evaluation_krw\n",
       "0            DN AUTOMOTIVE CORP  007340 KS    3500     94200.0     329700000.0\n",
       "1      SEAH STEEL HOLDINGS CORP  003030 KS     200    174700.0      34940000.0\n",
       "2  ORION CORP/REPUBLIC OF KOREA  271560 KS    1000     88800.0      88800000.0\n",
       "3                  SK HYNIX INC  000660 KS    1200    157000.0     188400000.0"
      ]
     },
     "execution_count": 16,
     "metadata": {},
     "output_type": "execute_result"
    }
   ],
   "source": [
    "instruction.show_current_price()"
   ]
  }
 ],
 "metadata": {
  "kernelspec": {
   "display_name": "base",
   "language": "python",
   "name": "python3"
  },
  "language_info": {
   "codemirror_mode": {
    "name": "ipython",
    "version": 3
   },
   "file_extension": ".py",
   "mimetype": "text/x-python",
   "name": "python",
   "nbconvert_exporter": "python",
   "pygments_lexer": "ipython3",
   "version": "3.11.3"
  }
 },
 "nbformat": 4,
 "nbformat_minor": 2
}
