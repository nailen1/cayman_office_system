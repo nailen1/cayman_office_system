{
 "cells": [
  {
   "cell_type": "code",
   "execution_count": 19,
   "metadata": {},
   "outputs": [],
   "source": [
    "from cayman_office_system import *\n",
    "from shining_pebbles import get_today"
   ]
  },
  {
   "cell_type": "code",
   "execution_count": 33,
   "metadata": {},
   "outputs": [],
   "source": [
    "COLUMNS_INSTRUCTION = [\n",
    "    'Name', 'Account', 'Side', 'Broker', 'Symbol', 'Amount', \n",
    "    'Order Type', 'Limit', 'Instructions', 'CFD', 'Rationale'\n",
    "]\n",
    "\n",
    "MAPPING_SIDE = {\n",
    "    'Buy': 'B',\n",
    "    'Sell': 'S',\n",
    "    'B': 'B',\n",
    "    'S': 'S'\n",
    "}  \n",
    "\n",
    "default_settings = {\n",
    "    'Name': None,\n",
    "    'Account': '715543911501',\n",
    "    'Broker': 'Samsung',\n",
    "    'Order Type': 'MKT',\n",
    "    'Limit': None,\n",
    "    'Instructions': 'VWAP',\n",
    "    'CFD': None,\n",
    "    'Rationale': None\n",
    "}\n",
    "\n",
    "\n",
    "class OrderInstruction:\n",
    "    def __init__(self, date=get_today()):\n",
    "        self.date = date\n",
    "        self.file_folder = file_folder['generate']\n",
    "        self.frame = self.get_frame_of_instruction()\n",
    "        self.orders = []\n",
    "        \n",
    "    def set_account(self, account=None):\n",
    "        if account is None:\n",
    "            account = '715543911501'\n",
    "        self.account = account\n",
    "        return account\n",
    "    \n",
    "    def set_default_sides(self, sides):\n",
    "        self.default_sides = sides\n",
    "        return sides\n",
    "\n",
    "    def set_broker(self, broker=None):\n",
    "        if broker is None:\n",
    "            broker = 'Samsung'\n",
    "        self.broker = broker\n",
    "        return broker\n",
    "    \n",
    "    def set_order_type(self, order_type=None):\n",
    "        if order_type is None:\n",
    "            order_type = 'MKT'\n",
    "        self.order_type = order_type\n",
    "        return order_type\n",
    "    \n",
    "    def set_limit(self, limit=None):\n",
    "        self.limit = limit\n",
    "        return limit\n",
    "\n",
    "    def set_instructions(self, instructions=None):\n",
    "        if instructions is None:\n",
    "            instructions = 'VWAP'\n",
    "        self.instructions = instructions\n",
    "        return instructions\n",
    "    \n",
    "    def set_cfd(self, cfd=None):\n",
    "        self.cfd = cfd\n",
    "        return cfd\n",
    "    \n",
    "    def set_order(self, order):\n",
    "        orders = self.orders\n",
    "        dct = {}\n",
    "        for key in COLUMNS_INSTRUCTION:\n",
    "            if key == 'Side':\n",
    "                dct[key] = MAPPING_SIDE[order['Side']]\n",
    "            elif key in order:\n",
    "                dct[key] = order[key]\n",
    "            else:\n",
    "                dct[key] = default_settings[key]\n",
    "        print(dct)\n",
    "        orders.append(dct)\n",
    "        self.orders = orders\n",
    "        return self\n",
    "    \n",
    "    def set_orders(self, orders):\n",
    "        for order in orders:\n",
    "            self.set_order(order)\n",
    "        return self   \n",
    "    \n",
    "    def get_frame_of_instruction(self):\n",
    "        df = pd.DataFrame(data=None, columns=COLUMNS_INSTRUCTION)\n",
    "        self.frame = df\n",
    "        return df\n",
    "\n",
    "    def generate(self):\n",
    "        df = pd.DataFrame(self.orders)\n",
    "        df['Name'] = df['Symbol'].apply(lambda x: get_ks_market_info()['name'].loc[f'{x} Equity'])\n",
    "        self.df = df\n",
    "        return df            \n",
    "\n",
    "    def export_as_excel_format(self):\n",
    "        df = self.df\n",
    "        file_folder = self.file_folder\n",
    "        file_name = f'genearted_at{get_today(\"%Y%m%d%H\")}-Life Asset trade instruction {self.date.replace(\"-\", \"\")}.xlsx'\n",
    "        file_path = os.path.join(file_folder, file_name)\n",
    "        with pd.ExcelWriter(file_path, engine='openpyxl') as writer:\n",
    "            df.to_excel(writer, index=False, sheet_name='Sheet1')\n",
    "            \n",
    "            # 각 열의 너비를 글자에 맞게 조정\n",
    "            worksheet = writer.sheets['Sheet1']\n",
    "            for column in worksheet.columns:\n",
    "                max_length = 0\n",
    "                column_letter = column[0].column_letter  # Get the column name\n",
    "                for cell in column:\n",
    "                    try:\n",
    "                        if len(str(cell.value)) > max_length:\n",
    "                            max_length = len(cell.value)\n",
    "                    except:\n",
    "                        pass\n",
    "                adjusted_width = (max_length + 2)\n",
    "                worksheet.column_dimensions[column_letter].width = adjusted_width\n",
    "\n",
    "        print(f\"DataFrame has been saved to {file_path}\")\n",
    "        return None\n",
    "\n",
    "    def show_price_info(self):\n",
    "        df = self.df\n",
    "        df['Price_last'] = df['Symbol'].apply(lambda x: get_ks_market_info()['price_last'].loc[f'{x} Equity'])\n",
    "        df['Evaluation_krw'] = df['Price_last'] * df['Amount']\n",
    "        cols_to_keep = ['Name', 'Symbol', 'Amount', 'Price_last', 'Evaluation_krw']\n",
    "        df = df[cols_to_keep]\n",
    "        self.price_info = df\n",
    "        return df        "
   ]
  },
  {
   "cell_type": "code",
   "execution_count": 34,
   "metadata": {},
   "outputs": [
    {
     "data": {
      "text/html": [
       "<div>\n",
       "<style scoped>\n",
       "    .dataframe tbody tr th:only-of-type {\n",
       "        vertical-align: middle;\n",
       "    }\n",
       "\n",
       "    .dataframe tbody tr th {\n",
       "        vertical-align: top;\n",
       "    }\n",
       "\n",
       "    .dataframe thead th {\n",
       "        text-align: right;\n",
       "    }\n",
       "</style>\n",
       "<table border=\"1\" class=\"dataframe\">\n",
       "  <thead>\n",
       "    <tr style=\"text-align: right;\">\n",
       "      <th></th>\n",
       "      <th>name_kr</th>\n",
       "      <th>name</th>\n",
       "      <th>market_index</th>\n",
       "      <th>sector</th>\n",
       "      <th>cap</th>\n",
       "      <th>price_last</th>\n",
       "    </tr>\n",
       "    <tr>\n",
       "      <th>ticker_bbg</th>\n",
       "      <th></th>\n",
       "      <th></th>\n",
       "      <th></th>\n",
       "      <th></th>\n",
       "      <th></th>\n",
       "      <th></th>\n",
       "    </tr>\n",
       "  </thead>\n",
       "  <tbody>\n",
       "    <tr>\n",
       "      <th>000020 KS Equity</th>\n",
       "      <td>동화약품</td>\n",
       "      <td>DONGWHA PHARM CO LTD</td>\n",
       "      <td>KOSPI Index</td>\n",
       "      <td>Health Care</td>\n",
       "      <td>2133.0</td>\n",
       "      <td>7640.0</td>\n",
       "    </tr>\n",
       "    <tr>\n",
       "      <th>000040 KS Equity</th>\n",
       "      <td>KR모터스</td>\n",
       "      <td>KR MOTORS CO LTD</td>\n",
       "      <td>KOSPI Index</td>\n",
       "      <td>Consumer Discretionary</td>\n",
       "      <td>200.0</td>\n",
       "      <td>568.0</td>\n",
       "    </tr>\n",
       "    <tr>\n",
       "      <th>000050 KS Equity</th>\n",
       "      <td>경방</td>\n",
       "      <td>KYUNGBANG CO LTD</td>\n",
       "      <td>KOSPI Index</td>\n",
       "      <td>Consumer Discretionary</td>\n",
       "      <td>1625.0</td>\n",
       "      <td>5930.0</td>\n",
       "    </tr>\n",
       "    <tr>\n",
       "      <th>000070 KS Equity</th>\n",
       "      <td>삼양홀딩스</td>\n",
       "      <td>SAMYANG HOLDINGS CORP</td>\n",
       "      <td>KOSPI Index</td>\n",
       "      <td>Consumer Staples</td>\n",
       "      <td>5323.0</td>\n",
       "      <td>71600.0</td>\n",
       "    </tr>\n",
       "    <tr>\n",
       "      <th>000080 KS Equity</th>\n",
       "      <td>하이트진로</td>\n",
       "      <td>HITE JINRO CO LTD</td>\n",
       "      <td>KOSPI Index</td>\n",
       "      <td>Consumer Staples</td>\n",
       "      <td>14412.0</td>\n",
       "      <td>20550.0</td>\n",
       "    </tr>\n",
       "    <tr>\n",
       "      <th>...</th>\n",
       "      <td>...</td>\n",
       "      <td>...</td>\n",
       "      <td>...</td>\n",
       "      <td>...</td>\n",
       "      <td>...</td>\n",
       "      <td>...</td>\n",
       "    </tr>\n",
       "    <tr>\n",
       "      <th>950170 KS Equity</th>\n",
       "      <td>JTC</td>\n",
       "      <td>NaN</td>\n",
       "      <td>NaN</td>\n",
       "      <td>NaN</td>\n",
       "      <td>2139.0</td>\n",
       "      <td>4255.0</td>\n",
       "    </tr>\n",
       "    <tr>\n",
       "      <th>950190 KS Equity</th>\n",
       "      <td>미투젠</td>\n",
       "      <td>NaN</td>\n",
       "      <td>NaN</td>\n",
       "      <td>NaN</td>\n",
       "      <td>1401.0</td>\n",
       "      <td>10320.0</td>\n",
       "    </tr>\n",
       "    <tr>\n",
       "      <th>950200 KS Equity</th>\n",
       "      <td>소마젠</td>\n",
       "      <td>NaN</td>\n",
       "      <td>NaN</td>\n",
       "      <td>NaN</td>\n",
       "      <td>805.0</td>\n",
       "      <td>4190.0</td>\n",
       "    </tr>\n",
       "    <tr>\n",
       "      <th>950210 KS Equity</th>\n",
       "      <td>프레스티지바이오파마</td>\n",
       "      <td>NaN</td>\n",
       "      <td>NaN</td>\n",
       "      <td>NaN</td>\n",
       "      <td>1545.0</td>\n",
       "      <td>12860.0</td>\n",
       "    </tr>\n",
       "    <tr>\n",
       "      <th>950220 KS Equity</th>\n",
       "      <td>네오이뮨텍</td>\n",
       "      <td>NaN</td>\n",
       "      <td>NaN</td>\n",
       "      <td>NaN</td>\n",
       "      <td>345.0</td>\n",
       "      <td>1745.0</td>\n",
       "    </tr>\n",
       "  </tbody>\n",
       "</table>\n",
       "<p>2602 rows × 6 columns</p>\n",
       "</div>"
      ],
      "text/plain": [
       "                     name_kr                   name market_index  \\\n",
       "ticker_bbg                                                         \n",
       "000020 KS Equity        동화약품   DONGWHA PHARM CO LTD  KOSPI Index   \n",
       "000040 KS Equity       KR모터스       KR MOTORS CO LTD  KOSPI Index   \n",
       "000050 KS Equity          경방       KYUNGBANG CO LTD  KOSPI Index   \n",
       "000070 KS Equity       삼양홀딩스  SAMYANG HOLDINGS CORP  KOSPI Index   \n",
       "000080 KS Equity       하이트진로      HITE JINRO CO LTD  KOSPI Index   \n",
       "...                      ...                    ...          ...   \n",
       "950170 KS Equity         JTC                    NaN          NaN   \n",
       "950190 KS Equity         미투젠                    NaN          NaN   \n",
       "950200 KS Equity         소마젠                    NaN          NaN   \n",
       "950210 KS Equity  프레스티지바이오파마                    NaN          NaN   \n",
       "950220 KS Equity       네오이뮨텍                    NaN          NaN   \n",
       "\n",
       "                                  sector      cap  price_last  \n",
       "ticker_bbg                                                     \n",
       "000020 KS Equity             Health Care   2133.0      7640.0  \n",
       "000040 KS Equity  Consumer Discretionary    200.0       568.0  \n",
       "000050 KS Equity  Consumer Discretionary   1625.0      5930.0  \n",
       "000070 KS Equity        Consumer Staples   5323.0     71600.0  \n",
       "000080 KS Equity        Consumer Staples  14412.0     20550.0  \n",
       "...                                  ...      ...         ...  \n",
       "950170 KS Equity                     NaN   2139.0      4255.0  \n",
       "950190 KS Equity                     NaN   1401.0     10320.0  \n",
       "950200 KS Equity                     NaN    805.0      4190.0  \n",
       "950210 KS Equity                     NaN   1545.0     12860.0  \n",
       "950220 KS Equity                     NaN    345.0      1745.0  \n",
       "\n",
       "[2602 rows x 6 columns]"
      ]
     },
     "execution_count": 34,
     "metadata": {},
     "output_type": "execute_result"
    }
   ],
   "source": [
    "get_ks_market_info()"
   ]
  },
  {
   "cell_type": "code",
   "execution_count": 35,
   "metadata": {},
   "outputs": [
    {
     "data": {
      "text/plain": [
       "<__main__.OrderInstruction at 0x1492663d0>"
      ]
     },
     "execution_count": 35,
     "metadata": {},
     "output_type": "execute_result"
    }
   ],
   "source": [
    "instruction = OrderInstruction()\n",
    "instruction"
   ]
  },
  {
   "cell_type": "code",
   "execution_count": 36,
   "metadata": {},
   "outputs": [
    {
     "data": {
      "text/plain": [
       "'2024-09-10'"
      ]
     },
     "execution_count": 36,
     "metadata": {},
     "output_type": "execute_result"
    }
   ],
   "source": [
    "instruction.date"
   ]
  },
  {
   "cell_type": "code",
   "execution_count": 37,
   "metadata": {},
   "outputs": [
    {
     "data": {
      "text/html": [
       "<div>\n",
       "<style scoped>\n",
       "    .dataframe tbody tr th:only-of-type {\n",
       "        vertical-align: middle;\n",
       "    }\n",
       "\n",
       "    .dataframe tbody tr th {\n",
       "        vertical-align: top;\n",
       "    }\n",
       "\n",
       "    .dataframe thead th {\n",
       "        text-align: right;\n",
       "    }\n",
       "</style>\n",
       "<table border=\"1\" class=\"dataframe\">\n",
       "  <thead>\n",
       "    <tr style=\"text-align: right;\">\n",
       "      <th></th>\n",
       "      <th>Name</th>\n",
       "      <th>Account</th>\n",
       "      <th>Side</th>\n",
       "      <th>Broker</th>\n",
       "      <th>Symbol</th>\n",
       "      <th>Amount</th>\n",
       "      <th>Order Type</th>\n",
       "      <th>Limit</th>\n",
       "      <th>Instructions</th>\n",
       "      <th>CFD</th>\n",
       "      <th>Rationale</th>\n",
       "    </tr>\n",
       "  </thead>\n",
       "  <tbody>\n",
       "  </tbody>\n",
       "</table>\n",
       "</div>"
      ],
      "text/plain": [
       "Empty DataFrame\n",
       "Columns: [Name, Account, Side, Broker, Symbol, Amount, Order Type, Limit, Instructions, CFD, Rationale]\n",
       "Index: []"
      ]
     },
     "execution_count": 37,
     "metadata": {},
     "output_type": "execute_result"
    }
   ],
   "source": [
    "frame = instruction.get_frame_of_instruction()\n",
    "frame "
   ]
  },
  {
   "cell_type": "code",
   "execution_count": null,
   "metadata": {},
   "outputs": [],
   "source": []
  },
  {
   "cell_type": "code",
   "execution_count": 38,
   "metadata": {},
   "outputs": [],
   "source": [
    "order_1 = {\n",
    "    'Symbol': '007340 KS',\n",
    "    'Side': 'B',\n",
    "    'Amount': 2500\n",
    "}\n",
    "order_2 = {\n",
    "    'Symbol': '282690 KS',\n",
    "    'Side': 'Buy',\n",
    "    'Amount': 2500\n",
    "}\n",
    "order_3_4 = [\n",
    "    {\n",
    "        'Symbol': '003030 KS',\n",
    "        'Side': 'B',\n",
    "        'Amount': 900\n",
    "    },\n",
    "    {\n",
    "        'Symbol': '271560 KS',\n",
    "        'Side': 'Buy',\n",
    "        'Amount': 2200\n",
    "    }\n",
    "] "
   ]
  },
  {
   "cell_type": "code",
   "execution_count": 39,
   "metadata": {},
   "outputs": [
    {
     "name": "stdout",
     "output_type": "stream",
     "text": [
      "{'Name': None, 'Account': '715543911501', 'Side': 'B', 'Broker': 'Samsung', 'Symbol': '007340 KS', 'Amount': 2500, 'Order Type': 'MKT', 'Limit': None, 'Instructions': 'VWAP', 'CFD': None, 'Rationale': None}\n"
     ]
    },
    {
     "data": {
      "text/plain": [
       "<__main__.OrderInstruction at 0x1492663d0>"
      ]
     },
     "execution_count": 39,
     "metadata": {},
     "output_type": "execute_result"
    }
   ],
   "source": [
    "instruction.set_order(order_1)"
   ]
  },
  {
   "cell_type": "code",
   "execution_count": 40,
   "metadata": {},
   "outputs": [
    {
     "name": "stdout",
     "output_type": "stream",
     "text": [
      "{'Name': None, 'Account': '715543911501', 'Side': 'B', 'Broker': 'Samsung', 'Symbol': '282690 KS', 'Amount': 2500, 'Order Type': 'MKT', 'Limit': None, 'Instructions': 'VWAP', 'CFD': None, 'Rationale': None}\n"
     ]
    },
    {
     "data": {
      "text/plain": [
       "<__main__.OrderInstruction at 0x1492663d0>"
      ]
     },
     "execution_count": 40,
     "metadata": {},
     "output_type": "execute_result"
    }
   ],
   "source": [
    "instruction.set_order(order_2)"
   ]
  },
  {
   "cell_type": "code",
   "execution_count": 41,
   "metadata": {},
   "outputs": [
    {
     "name": "stdout",
     "output_type": "stream",
     "text": [
      "{'Name': None, 'Account': '715543911501', 'Side': 'B', 'Broker': 'Samsung', 'Symbol': '003030 KS', 'Amount': 900, 'Order Type': 'MKT', 'Limit': None, 'Instructions': 'VWAP', 'CFD': None, 'Rationale': None}\n",
      "{'Name': None, 'Account': '715543911501', 'Side': 'B', 'Broker': 'Samsung', 'Symbol': '271560 KS', 'Amount': 2200, 'Order Type': 'MKT', 'Limit': None, 'Instructions': 'VWAP', 'CFD': None, 'Rationale': None}\n"
     ]
    },
    {
     "data": {
      "text/plain": [
       "<__main__.OrderInstruction at 0x1492663d0>"
      ]
     },
     "execution_count": 41,
     "metadata": {},
     "output_type": "execute_result"
    }
   ],
   "source": [
    "instruction.set_orders(order_3_4)"
   ]
  },
  {
   "cell_type": "code",
   "execution_count": 42,
   "metadata": {},
   "outputs": [
    {
     "data": {
      "text/plain": [
       "[{'Name': None,\n",
       "  'Account': '715543911501',\n",
       "  'Side': 'B',\n",
       "  'Broker': 'Samsung',\n",
       "  'Symbol': '007340 KS',\n",
       "  'Amount': 2500,\n",
       "  'Order Type': 'MKT',\n",
       "  'Limit': None,\n",
       "  'Instructions': 'VWAP',\n",
       "  'CFD': None,\n",
       "  'Rationale': None},\n",
       " {'Name': None,\n",
       "  'Account': '715543911501',\n",
       "  'Side': 'B',\n",
       "  'Broker': 'Samsung',\n",
       "  'Symbol': '282690 KS',\n",
       "  'Amount': 2500,\n",
       "  'Order Type': 'MKT',\n",
       "  'Limit': None,\n",
       "  'Instructions': 'VWAP',\n",
       "  'CFD': None,\n",
       "  'Rationale': None},\n",
       " {'Name': None,\n",
       "  'Account': '715543911501',\n",
       "  'Side': 'B',\n",
       "  'Broker': 'Samsung',\n",
       "  'Symbol': '003030 KS',\n",
       "  'Amount': 900,\n",
       "  'Order Type': 'MKT',\n",
       "  'Limit': None,\n",
       "  'Instructions': 'VWAP',\n",
       "  'CFD': None,\n",
       "  'Rationale': None},\n",
       " {'Name': None,\n",
       "  'Account': '715543911501',\n",
       "  'Side': 'B',\n",
       "  'Broker': 'Samsung',\n",
       "  'Symbol': '271560 KS',\n",
       "  'Amount': 2200,\n",
       "  'Order Type': 'MKT',\n",
       "  'Limit': None,\n",
       "  'Instructions': 'VWAP',\n",
       "  'CFD': None,\n",
       "  'Rationale': None}]"
      ]
     },
     "execution_count": 42,
     "metadata": {},
     "output_type": "execute_result"
    }
   ],
   "source": [
    "instruction.orders"
   ]
  },
  {
   "cell_type": "code",
   "execution_count": 43,
   "metadata": {},
   "outputs": [
    {
     "data": {
      "text/html": [
       "<div>\n",
       "<style scoped>\n",
       "    .dataframe tbody tr th:only-of-type {\n",
       "        vertical-align: middle;\n",
       "    }\n",
       "\n",
       "    .dataframe tbody tr th {\n",
       "        vertical-align: top;\n",
       "    }\n",
       "\n",
       "    .dataframe thead th {\n",
       "        text-align: right;\n",
       "    }\n",
       "</style>\n",
       "<table border=\"1\" class=\"dataframe\">\n",
       "  <thead>\n",
       "    <tr style=\"text-align: right;\">\n",
       "      <th></th>\n",
       "      <th>Name</th>\n",
       "      <th>Account</th>\n",
       "      <th>Side</th>\n",
       "      <th>Broker</th>\n",
       "      <th>Symbol</th>\n",
       "      <th>Amount</th>\n",
       "      <th>Order Type</th>\n",
       "      <th>Limit</th>\n",
       "      <th>Instructions</th>\n",
       "      <th>CFD</th>\n",
       "      <th>Rationale</th>\n",
       "    </tr>\n",
       "  </thead>\n",
       "  <tbody>\n",
       "    <tr>\n",
       "      <th>0</th>\n",
       "      <td>DN AUTOMOTIVE CORP</td>\n",
       "      <td>715543911501</td>\n",
       "      <td>B</td>\n",
       "      <td>Samsung</td>\n",
       "      <td>007340 KS</td>\n",
       "      <td>2500</td>\n",
       "      <td>MKT</td>\n",
       "      <td>None</td>\n",
       "      <td>VWAP</td>\n",
       "      <td>None</td>\n",
       "      <td>None</td>\n",
       "    </tr>\n",
       "    <tr>\n",
       "      <th>1</th>\n",
       "      <td>DONG AH TIRE &amp; RUBBER CO LTD</td>\n",
       "      <td>715543911501</td>\n",
       "      <td>B</td>\n",
       "      <td>Samsung</td>\n",
       "      <td>282690 KS</td>\n",
       "      <td>2500</td>\n",
       "      <td>MKT</td>\n",
       "      <td>None</td>\n",
       "      <td>VWAP</td>\n",
       "      <td>None</td>\n",
       "      <td>None</td>\n",
       "    </tr>\n",
       "    <tr>\n",
       "      <th>2</th>\n",
       "      <td>SEAH STEEL HOLDINGS CORP</td>\n",
       "      <td>715543911501</td>\n",
       "      <td>B</td>\n",
       "      <td>Samsung</td>\n",
       "      <td>003030 KS</td>\n",
       "      <td>900</td>\n",
       "      <td>MKT</td>\n",
       "      <td>None</td>\n",
       "      <td>VWAP</td>\n",
       "      <td>None</td>\n",
       "      <td>None</td>\n",
       "    </tr>\n",
       "    <tr>\n",
       "      <th>3</th>\n",
       "      <td>ORION CORP/REPUBLIC OF KOREA</td>\n",
       "      <td>715543911501</td>\n",
       "      <td>B</td>\n",
       "      <td>Samsung</td>\n",
       "      <td>271560 KS</td>\n",
       "      <td>2200</td>\n",
       "      <td>MKT</td>\n",
       "      <td>None</td>\n",
       "      <td>VWAP</td>\n",
       "      <td>None</td>\n",
       "      <td>None</td>\n",
       "    </tr>\n",
       "  </tbody>\n",
       "</table>\n",
       "</div>"
      ],
      "text/plain": [
       "                           Name       Account Side   Broker     Symbol  \\\n",
       "0            DN AUTOMOTIVE CORP  715543911501    B  Samsung  007340 KS   \n",
       "1  DONG AH TIRE & RUBBER CO LTD  715543911501    B  Samsung  282690 KS   \n",
       "2      SEAH STEEL HOLDINGS CORP  715543911501    B  Samsung  003030 KS   \n",
       "3  ORION CORP/REPUBLIC OF KOREA  715543911501    B  Samsung  271560 KS   \n",
       "\n",
       "   Amount Order Type Limit Instructions   CFD Rationale  \n",
       "0    2500        MKT  None         VWAP  None      None  \n",
       "1    2500        MKT  None         VWAP  None      None  \n",
       "2     900        MKT  None         VWAP  None      None  \n",
       "3    2200        MKT  None         VWAP  None      None  "
      ]
     },
     "execution_count": 43,
     "metadata": {},
     "output_type": "execute_result"
    }
   ],
   "source": [
    "instruction.generate()"
   ]
  },
  {
   "cell_type": "code",
   "execution_count": 44,
   "metadata": {},
   "outputs": [
    {
     "data": {
      "text/html": [
       "<div>\n",
       "<style scoped>\n",
       "    .dataframe tbody tr th:only-of-type {\n",
       "        vertical-align: middle;\n",
       "    }\n",
       "\n",
       "    .dataframe tbody tr th {\n",
       "        vertical-align: top;\n",
       "    }\n",
       "\n",
       "    .dataframe thead th {\n",
       "        text-align: right;\n",
       "    }\n",
       "</style>\n",
       "<table border=\"1\" class=\"dataframe\">\n",
       "  <thead>\n",
       "    <tr style=\"text-align: right;\">\n",
       "      <th></th>\n",
       "      <th>Name</th>\n",
       "      <th>Symbol</th>\n",
       "      <th>Amount</th>\n",
       "      <th>Price_last</th>\n",
       "      <th>Evaluation_krw</th>\n",
       "    </tr>\n",
       "  </thead>\n",
       "  <tbody>\n",
       "    <tr>\n",
       "      <th>0</th>\n",
       "      <td>DN AUTOMOTIVE CORP</td>\n",
       "      <td>007340 KS</td>\n",
       "      <td>2500</td>\n",
       "      <td>94200.0</td>\n",
       "      <td>235500000.0</td>\n",
       "    </tr>\n",
       "    <tr>\n",
       "      <th>1</th>\n",
       "      <td>DONG AH TIRE &amp; RUBBER CO LTD</td>\n",
       "      <td>282690 KS</td>\n",
       "      <td>2500</td>\n",
       "      <td>13500.0</td>\n",
       "      <td>33750000.0</td>\n",
       "    </tr>\n",
       "    <tr>\n",
       "      <th>2</th>\n",
       "      <td>SEAH STEEL HOLDINGS CORP</td>\n",
       "      <td>003030 KS</td>\n",
       "      <td>900</td>\n",
       "      <td>174700.0</td>\n",
       "      <td>157230000.0</td>\n",
       "    </tr>\n",
       "    <tr>\n",
       "      <th>3</th>\n",
       "      <td>ORION CORP/REPUBLIC OF KOREA</td>\n",
       "      <td>271560 KS</td>\n",
       "      <td>2200</td>\n",
       "      <td>88800.0</td>\n",
       "      <td>195360000.0</td>\n",
       "    </tr>\n",
       "  </tbody>\n",
       "</table>\n",
       "</div>"
      ],
      "text/plain": [
       "                           Name     Symbol  Amount  Price_last  Evaluation_krw\n",
       "0            DN AUTOMOTIVE CORP  007340 KS    2500     94200.0     235500000.0\n",
       "1  DONG AH TIRE & RUBBER CO LTD  282690 KS    2500     13500.0      33750000.0\n",
       "2      SEAH STEEL HOLDINGS CORP  003030 KS     900    174700.0     157230000.0\n",
       "3  ORION CORP/REPUBLIC OF KOREA  271560 KS    2200     88800.0     195360000.0"
      ]
     },
     "execution_count": 44,
     "metadata": {},
     "output_type": "execute_result"
    }
   ],
   "source": [
    "instruction.show_price_info()"
   ]
  },
  {
   "cell_type": "code",
   "execution_count": 45,
   "metadata": {},
   "outputs": [
    {
     "name": "stdout",
     "output_type": "stream",
     "text": [
      "DataFrame has been saved to /Users/juneyoungpark/dev/module-cayman_office_system/cayman_office_system/dataset-generate/genearted_at2024091010-Life Asset trade instruction 20240910.xlsx\n"
     ]
    }
   ],
   "source": [
    "instruction.export_as_excel_format()"
   ]
  },
  {
   "cell_type": "code",
   "execution_count": 46,
   "metadata": {},
   "outputs": [
    {
     "data": {
      "text/plain": [
       "{'Name': None,\n",
       " 'Account': '715543911501',\n",
       " 'Side': 'B',\n",
       " 'Broker': 'Samsung',\n",
       " 'Symbol': '007340 KS',\n",
       " 'Amount': 2500,\n",
       " 'Order Type': 'MKT',\n",
       " 'Limit': None,\n",
       " 'Instructions': 'VWAP',\n",
       " 'CFD': None,\n",
       " 'Rationale': None}"
      ]
     },
     "execution_count": 46,
     "metadata": {},
     "output_type": "execute_result"
    }
   ],
   "source": [
    "new_data = {}\n",
    "for key in frame.columns:\n",
    "    if key in order_1:\n",
    "        new_data[key] = order_1[key]\n",
    "    else:\n",
    "        new_data[key] = default_settings[key]\n",
    "new_data"
   ]
  },
  {
   "cell_type": "code",
   "execution_count": 47,
   "metadata": {},
   "outputs": [
    {
     "data": {
      "text/html": [
       "<div>\n",
       "<style scoped>\n",
       "    .dataframe tbody tr th:only-of-type {\n",
       "        vertical-align: middle;\n",
       "    }\n",
       "\n",
       "    .dataframe tbody tr th {\n",
       "        vertical-align: top;\n",
       "    }\n",
       "\n",
       "    .dataframe thead th {\n",
       "        text-align: right;\n",
       "    }\n",
       "</style>\n",
       "<table border=\"1\" class=\"dataframe\">\n",
       "  <thead>\n",
       "    <tr style=\"text-align: right;\">\n",
       "      <th></th>\n",
       "      <th>Name</th>\n",
       "      <th>Account</th>\n",
       "      <th>Side</th>\n",
       "      <th>Broker</th>\n",
       "      <th>Symbol</th>\n",
       "      <th>Amount</th>\n",
       "      <th>Order Type</th>\n",
       "      <th>Limit</th>\n",
       "      <th>Instructions</th>\n",
       "      <th>CFD</th>\n",
       "      <th>Rationale</th>\n",
       "    </tr>\n",
       "  </thead>\n",
       "  <tbody>\n",
       "    <tr>\n",
       "      <th>0</th>\n",
       "      <td>None</td>\n",
       "      <td>715543911501</td>\n",
       "      <td>B</td>\n",
       "      <td>Samsung</td>\n",
       "      <td>007340 KS</td>\n",
       "      <td>2500</td>\n",
       "      <td>MKT</td>\n",
       "      <td>None</td>\n",
       "      <td>VWAP</td>\n",
       "      <td>None</td>\n",
       "      <td>None</td>\n",
       "    </tr>\n",
       "  </tbody>\n",
       "</table>\n",
       "</div>"
      ],
      "text/plain": [
       "   Name       Account Side   Broker     Symbol  Amount Order Type Limit  \\\n",
       "0  None  715543911501    B  Samsung  007340 KS    2500        MKT  None   \n",
       "\n",
       "  Instructions   CFD Rationale  \n",
       "0         VWAP  None      None  "
      ]
     },
     "execution_count": 47,
     "metadata": {},
     "output_type": "execute_result"
    }
   ],
   "source": [
    "new_row = pd.DataFrame([new_data])\n",
    "new_row"
   ]
  },
  {
   "cell_type": "code",
   "execution_count": null,
   "metadata": {},
   "outputs": [],
   "source": []
  },
  {
   "cell_type": "code",
   "execution_count": null,
   "metadata": {},
   "outputs": [],
   "source": []
  },
  {
   "cell_type": "code",
   "execution_count": null,
   "metadata": {},
   "outputs": [],
   "source": []
  }
 ],
 "metadata": {
  "kernelspec": {
   "display_name": "base",
   "language": "python",
   "name": "python3"
  },
  "language_info": {
   "codemirror_mode": {
    "name": "ipython",
    "version": 3
   },
   "file_extension": ".py",
   "mimetype": "text/x-python",
   "name": "python",
   "nbconvert_exporter": "python",
   "pygments_lexer": "ipython3",
   "version": "3.11.3"
  }
 },
 "nbformat": 4,
 "nbformat_minor": 2
}
